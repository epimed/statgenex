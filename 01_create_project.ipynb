{
 "cells": [
  {
   "cell_type": "markdown",
   "id": "d18a241b-3bbd-4713-ae7a-9c9106ece99b",
   "metadata": {},
   "source": [
    "# Create a new project"
   ]
  },
  {
   "cell_type": "markdown",
   "id": "a62248f5-d4b6-43ed-8307-ac9f445217ad",
   "metadata": {},
   "source": [
    "This notebook shows how to define your project before the data analysis. You create an entity named \"project\" that contains the full configuration of your project: project name, folder names, data file names, datasets, clinical groups and so on. The entity \"project\" is usually created once, saved in a JSON file on your computer and then reused for different data analyses. You can regenerate it when you wish to add new datasets and/or clinical groups."
   ]
  },
  {
   "cell_type": "code",
   "execution_count": 1,
   "id": "8be1c1ce-2a1a-4804-93ee-c66915d3879b",
   "metadata": {},
   "outputs": [],
   "source": [
    "# Imports\n",
    "from src.statgenex.entity import Project, Dataset"
   ]
  },
  {
   "cell_type": "markdown",
   "id": "521fff32-ac73-414a-ac14-a5b076b8197b",
   "metadata": {},
   "source": [
    "## Project name and localisation"
   ]
  },
  {
   "cell_type": "markdown",
   "id": "9e27f2f8-55bd-4373-94cc-a890b448ec7b",
   "metadata": {},
   "source": [
    "First, define the project name and the localisation of the project on your computer in the \"project_options\":\n",
    "* **name**: project name\n",
    "* **root_dir**: path to the folder in which the project will be created"
   ]
  },
  {
   "cell_type": "code",
   "execution_count": 2,
   "id": "35026d15-8e11-454c-9581-96c2e35bd55f",
   "metadata": {},
   "outputs": [
    {
     "name": "stdout",
     "output_type": "stream",
     "text": [
      "Project [name = LysOnc, root_dir = C:/WORK/PROJECTS/, project_dir = C:/WORK/PROJECTS/LysOnc/, data_dir = C:/WORK/PROJECTS/LysOnc/data/, results_dir = C:/WORK/PROJECTS/LysOnc/results/]\n"
     ]
    }
   ],
   "source": [
    "project_options = {\n",
    "    'name': 'LysOnc',\n",
    "    'root_dir': 'C:/WORK/PROJECTS/',\n",
    "    }\n",
    "\n",
    "project = Project(**project_options)\n",
    "print(project)"
   ]
  },
  {
   "cell_type": "markdown",
   "id": "f865c32e-440c-4334-9a4a-10a39bf8c2eb",
   "metadata": {},
   "source": [
    "By default, the project entity will automatically define the following folders:\n",
    "* **project_dir**: project location\n",
    "* **data_dir**: folder that contains data files\n",
    "* **results_dir**: folder that will contain future outputs of the statistical analyses (results and figures)"
   ]
  },
  {
   "cell_type": "markdown",
   "id": "5feb1fab-56e9-4718-a9d0-83becdcadc20",
   "metadata": {},
   "source": [
    "If you need to customize \"data_dir\" and \"results_dir\", please define them in the \"project_options\".\n",
    "```json\n",
    "{\n",
    "    \"data_dir\": \"path to the customized data folder\",\n",
    "    \"results_dir\": \"path to the customized result folder\",\n",
    "}\n",
    "```"
   ]
  },
  {
   "cell_type": "code",
   "execution_count": 3,
   "id": "4da72086-0e56-420c-8122-b269c8881c4e",
   "metadata": {},
   "outputs": [],
   "source": [
    "# Generate the project folders\n",
    "project.dump()"
   ]
  },
  {
   "cell_type": "markdown",
   "id": "38c530ac-8a5b-475b-bfd9-1592d7eccebf",
   "metadata": {},
   "source": [
    "This will create the project (project.json) on your computer as well as the corresponding folders. At this step the project is empty. No dataset is defined.\n",
    "```json\n",
    "project.json\n",
    "{\n",
    "    \"name\": \"LysOnc\",\n",
    "    \"root_dir\": \"C:/WORK/PROJECTS/\",\n",
    "    \"project_dir\": \"C:/WORK/PROJECTS/LysOnc/\",\n",
    "    \"data_dir\": \"C:/WORK/PROJECTS/LysOnc/data/\",\n",
    "    \"results_dir\": \"C:/WORK/PROJECTS/LysOnc/results/\",\n",
    "    \"json_file\": \"C:/WORK/PROJECTS/LysOnc/project.json\",\n",
    "    \"datasets\": {}\n",
    "}\n",
    "```"
   ]
  },
  {
   "cell_type": "markdown",
   "id": "9eebee3d-1c62-4022-8220-a7e2603bdf79",
   "metadata": {},
   "source": [
    "## Add a new dataset to the project"
   ]
  },
  {
   "cell_type": "markdown",
   "id": "40f49526-49aa-4107-b9fa-1918458443c8",
   "metadata": {},
   "source": [
    "Put the data files in the data folder (as defind in \"data_dir\") of the project. \n",
    "\n",
    "At least, two files are expected:\n",
    "* **data_filename**: the name of the file containing gene expression data\n",
    "* **expgroup_filename**: the name of the file containing bio-clinical and demographic annotations of the samples (experimental grouping) "
   ]
  },
  {
   "cell_type": "code",
   "execution_count": 4,
   "id": "44e264c8-ec90-424c-808b-098407584e0e",
   "metadata": {},
   "outputs": [
    {
     "name": "stdout",
     "output_type": "stream",
     "text": [
      "Project LysOnc C:/WORK/PROJECTS/LysOnc/\n",
      "Dataset TCGA-BRCA: no groups defined\n"
     ]
    }
   ],
   "source": [
    "dataset_options = {\n",
    "    'name': 'TCGA-BRCA',\n",
    "    'data_filename': 'expression_data_tcga_brca_TCGA-BRCA_log_fpkm_1226_samples_42851_genes.csv',\n",
    "    'expgroup_filename': 'clinical_TCGA-BRCA.csv',\n",
    "    }\n",
    "\n",
    "dataset = Dataset(**dataset_options)\n",
    "project.add_dataset(dataset)\n",
    "project.print_summary()"
   ]
  },
  {
   "cell_type": "markdown",
   "id": "f883dbc4-ab09-45a6-953c-44f38e5eab7d",
   "metadata": {},
   "source": [
    "## Add groups to the dataset"
   ]
  },
  {
   "cell_type": "markdown",
   "id": "3a528eec-bd9e-434f-a65a-52d8c045973f",
   "metadata": {},
   "source": [
    "Provide rules to define the groups of samples. Four types of filters are available:\n",
    "* **categorical filters** for categorical variables in the \"exproup\" file\n",
    "* **quantitive filters** for numerical variables in the \"expgroup\" file\n",
    "* **expression filters** to identify groups of low and high expression for a gene in the \"data\" file\n",
    "* **secondary filters** to create intersections between the previously defined groups"
   ]
  },
  {
   "cell_type": "code",
   "execution_count": 5,
   "id": "9f84919e-48aa-44aa-815b-d8a3380e667d",
   "metadata": {},
   "outputs": [],
   "source": [
    "categorical_filters = {\n",
    "    'NT': [{'tissue_status': ['normal']}], # Non tumour (NT) breast\n",
    "    'All-tumours': [{'tissue_status': ['tumoral']}],\n",
    "    'Stage-I': [{'ajcc_pathologic_tumor_stage_shared_stage_tnm_categories': ['Stage I', 'Stage IA', 'Stage IB']}],\n",
    "    'Stage-II': [{'ajcc_pathologic_tumor_stage_shared_stage_tnm_categories': ['Stage II', 'Stage IIA', 'Stage IIB']}],\n",
    "    'Stage-III': [{'ajcc_pathologic_tumor_stage_shared_stage_tnm_categories': ['Stage III', 'Stage IIIA', 'Stage IIIB', 'Stage IIIC']}],\n",
    "    'Stage-IV': [{'ajcc_pathologic_tumor_stage_shared_stage_tnm_categories': ['Stage IV']}],\n",
    "    'Luminal-A': [{'tissue_status': ['tumoral']}, {'pam50': ['luminal-A']}],\n",
    "    'Luminal-B': [{'tissue_status': ['tumoral']}, {'pam50': ['luminal-B']}],\n",
    "    'HER2-enriched': [{'tissue_status': ['tumoral']}, {'pam50': ['HER2-enriched']}],\n",
    "    'Basal-like': [{'tissue_status': ['tumoral']}, {'pam50': ['basal-like']}],\n",
    "    'T1N0': [{'ajcc_tumor_pathologic_pt_shared_stage_pathologic_categories': ['T1', 'T1a', 'T1b', 'T1c']}, {'ajcc_nodes_pathologic_pn_shared_stage_pathologic_m': ['N0', 'N0 (i-)', 'N0 (i+)']}, {'diagnoses_1_ajcc_pathologic_m': ['M0', 'cM0 (i+)']}],\n",
    "    'N0': [{'ajcc_nodes_pathologic_pn_shared_stage_pathologic_m': ['N0', 'N0 (i-)', 'N0 (i+)', 'N0 (mol+)']}, {'diagnoses_1_ajcc_pathologic_m': ['M0', 'cM0 (i+)']}],\n",
    "    'N1': [{'ajcc_nodes_pathologic_pn_shared_stage_pathologic_m': ['N1', 'N1a', 'N1b', 'N1c', 'N1mi']}, {'diagnoses_1_ajcc_pathologic_m': ['M0', 'cM0 (i+)']}],\n",
    "    'N2': [{'ajcc_nodes_pathologic_pn_shared_stage_pathologic_m': ['N2', 'N2a', 'N2b', 'N2c', 'N2mi']}, {'diagnoses_1_ajcc_pathologic_m': ['M0', 'cM0 (i+)']}],\n",
    "    'N3': [{'ajcc_nodes_pathologic_pn_shared_stage_pathologic_m': ['N3', 'N3a', 'N3b', 'N3c', 'N3mi']}, {'diagnoses_1_ajcc_pathologic_m': ['M0', 'cM0 (i+)']}],\n",
    "    'M1': [{'diagnoses_1_ajcc_pathologic_m': ['M1']}],\n",
    "    'Claudin-low': [{'tissue_status': ['tumoral']}, {'claudin_low': [1]}],\n",
    "}"
   ]
  },
  {
   "cell_type": "code",
   "execution_count": 6,
   "id": "356b58f9-03ba-4b2e-8f85-dba799e54961",
   "metadata": {},
   "outputs": [],
   "source": [
    "quantitative_filters = {\n",
    "    'Young_N_and_T': [{'age_min' : [0, 60]}], # {column: [min, max]}\n",
    "    'Old_N_and_T': [{'age_min' : [60, 150]}],\n",
    "}"
   ]
  },
  {
   "cell_type": "code",
   "execution_count": 7,
   "id": "7549a4ef-74e5-4ad2-bb49-0ada97018cf5",
   "metadata": {},
   "outputs": [],
   "source": [
    "expression_filters = {\n",
    "    'SMYD2-': {'gene': 'SMYD2', 'ref_group': 'All-tumours', 'threshold_type': 'median', 'class': 'low'}, \n",
    "    'SMYD2+': {'gene': 'SMYD2', 'ref_group': 'All-tumours', 'threshold_type': 'median', 'class': 'high'},\n",
    "    'BCAR3-': {'gene': 'BCAR3', 'ref_group': 'All-tumours', 'threshold_type': 'median', 'class': 'low'}, \n",
    "    'BCAR3+': {'gene': 'BCAR3', 'ref_group': 'All-tumours', 'threshold_type': 'median', 'class': 'high'},\n",
    "    }"
   ]
  },
  {
   "cell_type": "code",
   "execution_count": 8,
   "id": "2e10aa4d-0f00-4faf-b48f-302bcab4eef4",
   "metadata": {},
   "outputs": [],
   "source": [
    "secondary_filters = {\n",
    "    'Young': ['All-tumours', 'Young_N_and_T'], # intersection of the selected groups\n",
    "    'Old': ['All-tumours', 'Old_N_and_T'],\n",
    "}"
   ]
  },
  {
   "cell_type": "code",
   "execution_count": 9,
   "id": "cfefd4ed-0d3e-43d2-9be7-3e1526254c3a",
   "metadata": {},
   "outputs": [
    {
     "name": "stdout",
     "output_type": "stream",
     "text": [
      "Project LysOnc C:/WORK/PROJECTS/LysOnc/\n",
      "Dataset TCGA-BRCA: NT (113), All-tumours (1113), Stage-I (179), Stage-II (619), Stage-III (244), Stage-IV (18), Luminal-A (547), Luminal-B (202), HER2-enriched (82), Basal-like (193), T1N0 (151), N0 (449), N1 (295), N2 (98), N3 (50), M1 (22), Claudin-low (33), Young_N_and_T (641), Old_N_and_T (566), SMYD2- (557), SMYD2+ (556), BCAR3- (557), BCAR3+ (556), Young (577), Old (520)\n"
     ]
    }
   ],
   "source": [
    "# The generation of the groups may take some time. Please wait.\n",
    "dataset.generate_groups(categorical_filters=categorical_filters, \n",
    "                        quantitative_filters=quantitative_filters, \n",
    "                        expression_filters=expression_filters,\n",
    "                        secondary_filters=secondary_filters)\n",
    "project.print_summary()"
   ]
  },
  {
   "cell_type": "markdown",
   "id": "b6f638b7-bfda-41d3-b0ff-ef5ba02ca459",
   "metadata": {},
   "source": [
    "## Save the project"
   ]
  },
  {
   "cell_type": "markdown",
   "id": "98d11042-7928-4f58-900d-32b9c6b076e0",
   "metadata": {},
   "source": [
    "Save the complete project with datasets and groups in \"project.json\" file on your computer."
   ]
  },
  {
   "cell_type": "code",
   "execution_count": 10,
   "id": "82164022-2214-4aba-aaa2-39d62db7cd23",
   "metadata": {},
   "outputs": [],
   "source": [
    "project.dump()"
   ]
  }
 ],
 "metadata": {
  "kernelspec": {
   "display_name": "Python 3 (ipykernel)",
   "language": "python",
   "name": "python3"
  },
  "language_info": {
   "codemirror_mode": {
    "name": "ipython",
    "version": 3
   },
   "file_extension": ".py",
   "mimetype": "text/x-python",
   "name": "python",
   "nbconvert_exporter": "python",
   "pygments_lexer": "ipython3",
   "version": "3.9.7"
  }
 },
 "nbformat": 4,
 "nbformat_minor": 5
}
