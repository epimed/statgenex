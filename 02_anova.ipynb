{
 "cells": [
  {
   "cell_type": "markdown",
   "id": "0c979fed-a900-40ff-85ac-b4abcfe6b756",
   "metadata": {},
   "source": [
    "# ANOVA - Analysis of variation"
   ]
  },
  {
   "cell_type": "code",
   "execution_count": 1,
   "id": "c29c50db-b322-4499-8b75-e2b875d78123",
   "metadata": {},
   "outputs": [],
   "source": [
    "# Imports\n",
    "from src.statgenex.entity import Project\n",
    "from src.statgenex.expression import Anova\n",
    "import pandas as pd"
   ]
  },
  {
   "cell_type": "markdown",
   "id": "d39716e8-ad4a-49a9-9bc7-b48760a81a50",
   "metadata": {},
   "source": [
    "## Import the project"
   ]
  },
  {
   "cell_type": "code",
   "execution_count": 2,
   "id": "85594f3a-f560-435a-b286-3e1052105140",
   "metadata": {},
   "outputs": [
    {
     "name": "stdout",
     "output_type": "stream",
     "text": [
      "Project LysOnc C:/WORK/PROJECTS/LysOnc/\n",
      "Dataset TCGA-BRCA: NT (113), All-tumours (1113), Stage-I (179), Stage-II (619), Stage-III (244), Stage-IV (18), Luminal-A (547), Luminal-B (202), HER2-enriched (82), Basal-like (193), T1N0 (151), N0 (449), N1 (295), N2 (98), N3 (50), M1 (22), Claudin-low (33), Young_N_and_T (641), Old_N_and_T (566), SMYD2- (557), SMYD2+ (556), BCAR3- (557), BCAR3+ (556), Young (577), Old (520)\n"
     ]
    }
   ],
   "source": [
    "project_options = {\n",
    "    'name': 'LysOnc',\n",
    "    'root_dir': 'C:/WORK/PROJECTS/',\n",
    "    }\n",
    "\n",
    "project = Project(**project_options)\n",
    "project.restore()\n",
    "project.print_summary()"
   ]
  },
  {
   "cell_type": "markdown",
   "id": "fe7393d3-a65c-445c-96d6-0c36350e8cc6",
   "metadata": {},
   "source": [
    "## Select the dataset and groups for ANOVA"
   ]
  },
  {
   "cell_type": "code",
   "execution_count": 3,
   "id": "062965e4-ee65-4932-be57-4939671760ca",
   "metadata": {},
   "outputs": [],
   "source": [
    "dataset_name = 'TCGA-BRCA'\n",
    "group_names = ['Luminal-A', 'Luminal-B', 'HER2-enriched', 'Basal-like']"
   ]
  },
  {
   "cell_type": "code",
   "execution_count": 4,
   "id": "e95d82db-e1b1-480b-aa3d-74e789b4b83d",
   "metadata": {},
   "outputs": [
    {
     "name": "stdout",
     "output_type": "stream",
     "text": [
      "All groups available in the dataset TCGA-BRCA ['NT', 'All-tumours', 'Stage-I', 'Stage-II', 'Stage-III', 'Stage-IV', 'Luminal-A', 'Luminal-B', 'HER2-enriched', 'Basal-like', 'T1N0', 'N0', 'N1', 'N2', 'N3', 'M1', 'Claudin-low', 'Young_N_and_T', 'Old_N_and_T', 'SMYD2-', 'SMYD2+', 'BCAR3-', 'BCAR3+', 'Young', 'Old']\n"
     ]
    }
   ],
   "source": [
    "# To know all avalailable groups in the selected dataset\n",
    "all_available_groups = list(project.datasets[dataset_name].groups.keys())\n",
    "print('All groups available in the dataset', dataset_name, all_available_groups)"
   ]
  },
  {
   "cell_type": "markdown",
   "id": "4e5c308f-4d6b-4fcd-822e-9bcfa9f3293a",
   "metadata": {},
   "source": [
    "## Define the list of genes"
   ]
  },
  {
   "cell_type": "markdown",
   "id": "570d08bb-3993-49c5-a899-f7a5445f609f",
   "metadata": {},
   "source": [
    "Provide a list of genes for which ANOVA should be performed."
   ]
  },
  {
   "cell_type": "code",
   "execution_count": 5,
   "id": "86828bc9-3ec6-441c-a0ab-c68b087580e0",
   "metadata": {},
   "outputs": [],
   "source": [
    "# Read the gene list from a file\n",
    "gene_data = pd.read_excel(project.data_dir + 'Candidate KMTs.xlsx', sheet_name=0, index_col=0)\n",
    "gene_names = list(gene_data.index)"
   ]
  },
  {
   "cell_type": "code",
   "execution_count": 6,
   "id": "886fc0ea-da20-4910-9810-e665d37b8014",
   "metadata": {},
   "outputs": [],
   "source": [
    "# Or define the gene list manually\n",
    "gene_names = ['SMYD2', 'BIRC3']"
   ]
  },
  {
   "cell_type": "markdown",
   "id": "77495e6f-a728-4272-987d-cb86947cca40",
   "metadata": {},
   "source": [
    "## Perform ANOVA"
   ]
  },
  {
   "cell_type": "markdown",
   "id": "49102bc6-d616-46fa-a589-851524131558",
   "metadata": {},
   "source": [
    "The analysis of variations is performed with the parametric ANOVA and non-parametric Kruskal-Wallis (KW) statistical tests. The p-values of ANOVA and KW tests are adjusted for the false discovery rate (FDR) using the method of Benjamini-Hochberg."
   ]
  },
  {
   "cell_type": "code",
   "execution_count": 7,
   "id": "fdf74692-7d6e-467e-b086-1e4f1c1d8983",
   "metadata": {},
   "outputs": [
    {
     "name": "stdout",
     "output_type": "stream",
     "text": [
      "Anova is processing. Please wait...\n",
      "Anova is calculated.\n",
      "The results of ANOVA are generated in C:/WORK/PROJECTS/LysOnc/results/2023.04.28_Anova/\n"
     ]
    }
   ],
   "source": [
    "anova_options = {\n",
    "    'project': project,\n",
    "    'dataset_name': dataset_name,\n",
    "    'group_names': group_names,\n",
    "    'features': gene_names,\n",
    "    'generate_plots': True,\n",
    "    }\n",
    "\n",
    "anova = Anova(**anova_options)\n",
    "print('Anova is processing. Please wait...')\n",
    "anova.perform()\n",
    "print('Anova is calculated.')\n",
    "print('The results of ANOVA are generated in', anova.results_dir)"
   ]
  },
  {
   "cell_type": "code",
   "execution_count": 8,
   "id": "093352ad-9590-4d2a-a127-e2aa11b74c0e",
   "metadata": {},
   "outputs": [
    {
     "data": {
      "text/html": [
       "<div>\n",
       "<style scoped>\n",
       "    .dataframe tbody tr th:only-of-type {\n",
       "        vertical-align: middle;\n",
       "    }\n",
       "\n",
       "    .dataframe tbody tr th {\n",
       "        vertical-align: top;\n",
       "    }\n",
       "\n",
       "    .dataframe thead th {\n",
       "        text-align: right;\n",
       "    }\n",
       "</style>\n",
       "<table border=\"1\" class=\"dataframe\">\n",
       "  <thead>\n",
       "    <tr style=\"text-align: right;\">\n",
       "      <th></th>\n",
       "      <th>pval_anova</th>\n",
       "      <th>pval_kw</th>\n",
       "      <th>fdr_anova</th>\n",
       "      <th>fdr_kw</th>\n",
       "      <th>significant</th>\n",
       "    </tr>\n",
       "    <tr>\n",
       "      <th>gene</th>\n",
       "      <th></th>\n",
       "      <th></th>\n",
       "      <th></th>\n",
       "      <th></th>\n",
       "      <th></th>\n",
       "    </tr>\n",
       "  </thead>\n",
       "  <tbody>\n",
       "    <tr>\n",
       "      <th>SMYD2</th>\n",
       "      <td>1.261037e-39</td>\n",
       "      <td>8.096529e-37</td>\n",
       "      <td>2.522073e-39</td>\n",
       "      <td>1.619306e-36</td>\n",
       "      <td>1.0</td>\n",
       "    </tr>\n",
       "    <tr>\n",
       "      <th>BIRC3</th>\n",
       "      <td>1.260680e-14</td>\n",
       "      <td>1.135086e-11</td>\n",
       "      <td>1.260680e-14</td>\n",
       "      <td>1.135086e-11</td>\n",
       "      <td>1.0</td>\n",
       "    </tr>\n",
       "  </tbody>\n",
       "</table>\n",
       "</div>"
      ],
      "text/plain": [
       "         pval_anova       pval_kw     fdr_anova        fdr_kw  significant\n",
       "gene                                                                      \n",
       "SMYD2  1.261037e-39  8.096529e-37  2.522073e-39  1.619306e-36          1.0\n",
       "BIRC3  1.260680e-14  1.135086e-11  1.260680e-14  1.135086e-11          1.0"
      ]
     },
     "execution_count": 8,
     "metadata": {},
     "output_type": "execute_result"
    }
   ],
   "source": [
    "anova.results.head()"
   ]
  },
  {
   "cell_type": "code",
   "execution_count": null,
   "id": "3fffd7e0-2b95-49c5-a7e0-544a57902212",
   "metadata": {},
   "outputs": [],
   "source": []
  }
 ],
 "metadata": {
  "kernelspec": {
   "display_name": "Python 3 (ipykernel)",
   "language": "python",
   "name": "python3"
  },
  "language_info": {
   "codemirror_mode": {
    "name": "ipython",
    "version": 3
   },
   "file_extension": ".py",
   "mimetype": "text/x-python",
   "name": "python",
   "nbconvert_exporter": "python",
   "pygments_lexer": "ipython3",
   "version": "3.9.7"
  }
 },
 "nbformat": 4,
 "nbformat_minor": 5
}
